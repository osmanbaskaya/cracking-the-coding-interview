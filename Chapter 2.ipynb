{
 "cells": [
  {
   "cell_type": "code",
   "execution_count": 24,
   "metadata": {
    "collapsed": false
   },
   "outputs": [],
   "source": [
    "import random\n",
    "\n",
    "\n",
    "def print_nodes(head):\n",
    "    n = head\n",
    "    while n is not None:\n",
    "        print(\"{} -> \".format(n.data), end='')\n",
    "        n = n.next\n",
    "    print(\"None\")\n",
    "\n",
    "def create_singly_linked_list(n, start=1, end=3):\n",
    "    nodes = [Node(random.randint(start, end)) for _ in range(n)]\n",
    "    for i in range(1, n):\n",
    "        nodes[i-1].next = nodes[i]\n",
    "    return nodes[0]\n",
    "\n",
    "class Node:\n",
    "    def __init__(self, data):\n",
    "        self.data = data\n",
    "        self.next = None\n",
    "        self.prev = None\n",
    "        \n",
    "    "
   ]
  },
  {
   "cell_type": "code",
   "execution_count": 32,
   "metadata": {
    "collapsed": false
   },
   "outputs": [
    {
     "name": "stdout",
     "output_type": "stream",
     "text": [
      "1 -> 2 -> 2 -> 3 -> 2 -> 2 -> 3 -> 2 -> 2 -> None\n",
      "1 -> 2 -> 3 -> None\n"
     ]
    }
   ],
   "source": [
    "head = create_singly_linked_list(9)\n",
    "print_nodes(head)\n",
    "\n",
    "# traverse\n",
    "def remove_dups(head):\n",
    "    n = head\n",
    "    prev = head\n",
    "    nodes_processed = set()\n",
    "    while n is not None:\n",
    "        if n.data in nodes_processed:\n",
    "            prev.next = n.next\n",
    "        else:\n",
    "            nodes_processed.add(n.data)\n",
    "            prev = n\n",
    "        n = n.next\n",
    "  \n",
    "remove_dups(head)\n",
    "print_nodes(head)"
   ]
  },
  {
   "cell_type": "code",
   "execution_count": 104,
   "metadata": {
    "collapsed": false
   },
   "outputs": [
    {
     "name": "stdout",
     "output_type": "stream",
     "text": [
      "12 -> 91 -> 96 -> 99 -> 81 -> None\n",
      "99\n",
      "99\n"
     ]
    },
    {
     "data": {
      "text/plain": [
       "5"
      ]
     },
     "execution_count": 104,
     "metadata": {},
     "output_type": "execute_result"
    }
   ],
   "source": [
    "# Solution for problem 2.2\n",
    "\n",
    "head = create_singly_linked_list(5, 1, 100)\n",
    "remove_dups(head)\n",
    "print_nodes(head)\n",
    "kth = 2\n",
    "\n",
    "\n",
    "def return_kth_last(head, k):\n",
    "    size = 0\n",
    "    n = head\n",
    "    while n is not None:\n",
    "        size += 1\n",
    "        n = n.next\n",
    "    \n",
    "    if size-k >= 0:\n",
    "        n = head\n",
    "        for i in range(size - k):\n",
    "            n = n.next\n",
    "        return n\n",
    "    return None\n",
    "   \n",
    "print(return_kth_last(head, kth).data)\n",
    "\n",
    "def return_kth_last_recursive(head, k):\n",
    "    if head is None:\n",
    "        return 0\n",
    "    index = return_kth_last_recursive(head.next, k) + 1\n",
    "    if index == k:\n",
    "        print(head.data)\n",
    "    return index\n",
    "\n",
    "\n",
    "return_kth_last_recursive(head, kth)"
   ]
  },
  {
   "cell_type": "code",
   "execution_count": 93,
   "metadata": {
    "collapsed": false
   },
   "outputs": [
    {
     "name": "stdout",
     "output_type": "stream",
     "text": [
      "92 -> 82 -> 50 -> 51 -> 49 -> 27 -> 9 -> 35 -> None\n",
      "92 -> 82 -> 50 -> 51 -> 27 -> 9 -> 35 -> None\n"
     ]
    }
   ],
   "source": [
    "# Solution of a problem similar to 2.3\n",
    "\n",
    "def remove_middle_node(head):\n",
    "    two_step = head\n",
    "    one_step = head\n",
    "    prev = one_step\n",
    "    while True:\n",
    "        if two_step is not None:\n",
    "            if two_step.next is not None:\n",
    "                if two_step.next.next is not None:\n",
    "                    two_step = two_step.next.next\n",
    "                    prev = one_step\n",
    "                    one_step = one_step.next\n",
    "                else:\n",
    "                    two_step = two_step.next\n",
    "                    if two_step is not one_step.next:\n",
    "                        one_step.next = one_step.next.next\n",
    "                    break\n",
    "            else:\n",
    "                prev.next = one_step.next\n",
    "                break\n",
    "  \n",
    "head = create_singly_linked_list(10, 1, 100)\n",
    "remove_dups(head)\n",
    "print_nodes(head)\n",
    "remove_middle(head)\n",
    "print_nodes(head)"
   ]
  },
  {
   "cell_type": "code",
   "execution_count": 103,
   "metadata": {
    "collapsed": false
   },
   "outputs": [
    {
     "name": "stdout",
     "output_type": "stream",
     "text": [
      "83 -> 25 -> 36 -> 79 -> None\n",
      "83 -> 36 -> 79 -> None\n"
     ]
    }
   ],
   "source": [
    "# Solution for problem 2.3\n",
    "\n",
    "def remove_node(node):\n",
    "    if node is not None and node.next is not None:\n",
    "        next = node.next\n",
    "        node.data = next.data\n",
    "        node.next = next.next\n",
    "    \n",
    "head = create_singly_linked_list(5, 1, 100)\n",
    "remove_dups(head)\n",
    "print_nodes(head)\n",
    "remove_node(head.next)\n",
    "print_nodes(head)\n"
   ]
  },
  {
   "cell_type": "code",
   "execution_count": 128,
   "metadata": {
    "collapsed": false
   },
   "outputs": [
    {
     "name": "stdout",
     "output_type": "stream",
     "text": [
      "2 -> 5 -> 4 -> 10 -> 3 -> 1 -> 9 -> 8 -> 7 -> None\n",
      "1 -> 3 -> 4 -> 2 -> 5 -> 10 -> 9 -> 8 -> 7 -> None\n"
     ]
    }
   ],
   "source": [
    "# Solution for problem 2.3\n",
    "\n",
    "def partition(head, value):\n",
    "    small_list = None\n",
    "    small_head = None\n",
    "    big_list = None\n",
    "    big_head = None\n",
    "    node = head\n",
    "    while node is not None:\n",
    "        if node.data < value:\n",
    "            if small_list is not None:\n",
    "                small_list.next = node\n",
    "            else:\n",
    "                small_head = node\n",
    "            small_list = node\n",
    "        else:\n",
    "            if big_list is not None:\n",
    "                big_list.next = node\n",
    "            else:\n",
    "                big_head = node\n",
    "            big_list = node   \n",
    "        node = node.next\n",
    "    \n",
    "    if small_head is None:\n",
    "        new_head = big_head\n",
    "    else:\n",
    "        small_list.next = big_head\n",
    "        new_head = small_head\n",
    "    \n",
    "    if big_list is not None:\n",
    "        big_list.next = None\n",
    "    \n",
    "    return new_head\n",
    "\n",
    "\n",
    "# another implementation\n",
    "\n",
    "def partition2(node, value):\n",
    "    head = node\n",
    "    tail = node\n",
    "    n = node\n",
    "    while n is not None:\n",
    "        next = n.next\n",
    "        if n.data < value:\n",
    "            n.next = head\n",
    "            head = n\n",
    "        else:\n",
    "            tail.next = n\n",
    "            tail = n\n",
    "        n = next\n",
    "        \n",
    "    tail.next = None\n",
    " \n",
    "    return head\n",
    "\n",
    "head = create_singly_linked_list(15, 1, 10)\n",
    "remove_dups(head)\n",
    "print_nodes(head)\n",
    "print_nodes(partition2(head, 5))"
   ]
  },
  {
   "cell_type": "code",
   "execution_count": 167,
   "metadata": {
    "collapsed": false
   },
   "outputs": [
    {
     "name": "stdout",
     "output_type": "stream",
     "text": [
      "8 -> 0 -> 6 -> 4 -> 2 -> None\n",
      "1 -> 5 -> None\n",
      "24659\n",
      "\n",
      "Follow-up Question for same linked lists\n",
      "8 -> 0 -> 6 -> 4 -> 2 -> None\n",
      "0 -> 0 -> 0 -> 1 -> 5 -> None\n",
      "80657\n"
     ]
    }
   ],
   "source": [
    "# Solution for problem 2.5\n",
    "\n",
    "def sum_linked_lists(head1, head2):\n",
    "    n1 = head1\n",
    "    n2 = head2\n",
    "    result = \"\"\n",
    "    remain = 0 \n",
    "    while True:\n",
    "        if n1 is None and n2 is None:\n",
    "            if remain != 0:\n",
    "                result = \"1{}\".format(result)\n",
    "            return int(result)\n",
    "        else:\n",
    "            if n1 is None:\n",
    "                number1 = 0\n",
    "            else:\n",
    "                number1 = n1.data\n",
    "                n1 = n1.next\n",
    "\n",
    "            if n2 is None:\n",
    "                number2 = 0\n",
    "            else:\n",
    "                number2 = n2.data\n",
    "                n2 = n2.next\n",
    "\n",
    "            total = number1 + number2 + remain\n",
    "            remain = total // 10\n",
    "            result = '{}{}'.format(total % 10, result)\n",
    "\n",
    "# Solution for problem 2.5 - Follow - up\n",
    "\n",
    "def sum_linked_lists_recur_aux(head1, head2):\n",
    "    if head1 is None:\n",
    "        if head2 is None:\n",
    "            return 0, \"\"\n",
    "        else:\n",
    "            res, t = sum_linked_lists_recur_aux(head1, head2.next)\n",
    "            return 0, \"{}{}\".format(head2.data, t)\n",
    "            \n",
    "    else:\n",
    "        if head2 is None:\n",
    "            res, t = sum_linked_lists_recur_aux(head1.next, head2)\n",
    "            return 0, \"{}{}\".format(head1.data, t)\n",
    "        else:\n",
    "            res, t = sum_linked_lists_recur_aux(head1.next, head2.next)\n",
    "            total = head1.data + head2.data + res\n",
    "            return total // 10, \"{}{}\".format(total % 10, t)\n",
    "\n",
    "        \n",
    "def sum_linked_lists_recur(head1, head2):\n",
    "    res, t = sum_linked_lists_recur_aux(head1, head2)\n",
    "    if res != 0:\n",
    "        t = \"1{}\".format(t)\n",
    "    return int(t)\n",
    "        \n",
    "        \n",
    "def get_size(head):\n",
    "    n = head\n",
    "    size = 0\n",
    "    while n is not None:\n",
    "        size += 1\n",
    "        n = n.next\n",
    "    return size\n",
    "\n",
    "\n",
    "def add_padding(head, num, padding=0):\n",
    "    n = head\n",
    "    for i in range(num):\n",
    "        new_head = Node(0)\n",
    "        new_head.next = n\n",
    "        n = new_head\n",
    "    \n",
    "    return n\n",
    "      \n",
    "    \n",
    "def equalize_size(head1, head2):\n",
    "    size1 = get_size(head1)\n",
    "    size2 = get_size(head2)\n",
    "    \n",
    "    if size1 < size2:\n",
    "        head1 = add_padding(head1, size2-size1, 0)\n",
    "    elif size2 < size1:\n",
    "        head2 = add_padding(head2, size1-size2, 0)\n",
    "\n",
    "    return head1, head2\n",
    "    \n",
    "        \n",
    "head1 = create_singly_linked_list(5, 0, 9)\n",
    "print_nodes(head1)\n",
    "head2 = create_singly_linked_list(2, 0, 9)\n",
    "print_nodes(head2)\n",
    "print(sum_linked_lists(head1, head2))\n",
    "print('\\nFollow-up Question for same linked lists')\n",
    "head1, head2 = equalize_size(head1, head2)\n",
    "print_nodes(head1)\n",
    "print_nodes(head2)\n",
    "print(sum_linked_lists_recur(head1, head2))"
   ]
  },
  {
   "cell_type": "code",
   "execution_count": null,
   "metadata": {
    "collapsed": true
   },
   "outputs": [],
   "source": [
    "# Solution for problem 2.6\n",
    "\n"
   ]
  }
 ],
 "metadata": {
  "anaconda-cloud": {},
  "kernelspec": {
   "display_name": "Python [coarse-wsd-3]",
   "language": "python",
   "name": "Python [coarse-wsd-3]"
  },
  "language_info": {
   "codemirror_mode": {
    "name": "ipython",
    "version": 3
   },
   "file_extension": ".py",
   "mimetype": "text/x-python",
   "name": "python",
   "nbconvert_exporter": "python",
   "pygments_lexer": "ipython3",
   "version": "3.6.1"
  }
 },
 "nbformat": 4,
 "nbformat_minor": 0
}
