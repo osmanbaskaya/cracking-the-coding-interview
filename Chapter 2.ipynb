{
 "cells": [
  {
   "cell_type": "code",
   "execution_count": 22,
   "metadata": {},
   "outputs": [],
   "source": [
    "import random\n",
    "\n",
    "def create_random_linked_list(length, start=1, end=4):\n",
    "    nodes = [Node(random.randint(start, end)) for _ in range(length)]\n",
    "    for i in range(length-1):\n",
    "        nodes[i].next = nodes[i+1]\n",
    "    \n",
    "    return nodes[0]\n",
    "\n",
    "\n",
    "def print_nodes(node):\n",
    "    n = node\n",
    "    while n is not None:\n",
    "        print(\"{}->\".format(n.data),end='')\n",
    "        n = n.next\n",
    "    print(\"None\")\n",
    "    \n",
    "\n",
    "class Node:\n",
    "    def __init__(self, data):\n",
    "        self.data = data\n",
    "        self.next = None\n",
    "\n",
    "    "
   ]
  },
  {
   "cell_type": "code",
   "execution_count": 141,
   "metadata": {},
   "outputs": [
    {
     "name": "stdout",
     "output_type": "stream",
     "text": [
      "3->4->5->4->4->4->4->3->1->4->3->1->5->1->2->3->3->3->5->1->4->1->2->1->2->4->5->5->1->1->5->4->3->5->5->3->1->5->2->2->5->1->4->3->4->3->5->4->5->3->1->1->2->2->5->3->2->3->4->5->5->5->4->5->2->2->1->1->2->1->5->2->1->2->5->4->5->2->4->3->2->4->1->3->1->1->3->2->1->1->1->3->4->3->2->3->1->1->3->3->None\n",
      "\n",
      "3->4->5->1->2->None\n"
     ]
    }
   ],
   "source": [
    "# Solution for Question 2.1\n",
    "\n",
    "def remove_duplicates_with_add_storage(node):\n",
    "    already_processed = set()\n",
    "    if node is not None:\n",
    "        already_processed.add(node.data)\n",
    "        \n",
    "    n = node\n",
    "    prev = n\n",
    "    while n.next is not None:\n",
    "        if n.next.data not in already_processed:\n",
    "            prev.next = n.next\n",
    "            prev = n.next\n",
    "            already_processed.add(prev.data)\n",
    "        n = n.next\n",
    "    prev.next = None\n",
    "    return node\n",
    "\n",
    "\n",
    "def is_not_seen(start_node, stop_node, data):\n",
    "    \"\"\"search starting from start_node to stop_node and \n",
    "    return if the data has been seen.\"\"\"\n",
    "    n = start_node\n",
    "    is_not_seen = True\n",
    "    while n is not stop_node:\n",
    "        if n.data == data:\n",
    "            is_not_seen = False\n",
    "            break\n",
    "        n = n.next\n",
    "    \n",
    "    \n",
    "    if stop_node.data == data:\n",
    "        is_not_seen = False\n",
    "    \n",
    "    return is_not_seen\n",
    "        \n",
    "\n",
    "def remove_duplicates_with_no_add_storage(node):\n",
    "    n = node\n",
    "    prev = n\n",
    "    while n.next is not None:\n",
    "        if is_not_seen(node, prev, n.next.data):\n",
    "            prev.next = n.next\n",
    "            prev = n.next  \n",
    "        n = n.next\n",
    "    prev.next = None\n",
    "    return node\n",
    "\n",
    "head = create_random_linked_list(100, end=5)\n",
    "print_nodes(head)\n",
    "head = remove_duplicates_with_no_add_storage(head)\n",
    "print()\n",
    "print_nodes(head)"
   ]
  }
 ],
 "metadata": {
  "kernelspec": {
   "display_name": "Python [conda env:anaconda3]",
   "language": "python",
   "name": "conda-env-anaconda3-py"
  },
  "language_info": {
   "codemirror_mode": {
    "name": "ipython",
    "version": 3
   },
   "file_extension": ".py",
   "mimetype": "text/x-python",
   "name": "python",
   "nbconvert_exporter": "python",
   "pygments_lexer": "ipython3",
   "version": "3.6.4"
  }
 },
 "nbformat": 4,
 "nbformat_minor": 2
}
