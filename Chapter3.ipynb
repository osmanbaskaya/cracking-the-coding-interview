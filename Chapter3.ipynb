{
 "cells": [
  {
   "cell_type": "code",
   "execution_count": 29,
   "metadata": {
    "collapsed": true
   },
   "outputs": [],
   "source": [
    "import random"
   ]
  },
  {
   "cell_type": "code",
   "execution_count": 51,
   "metadata": {
    "collapsed": false
   },
   "outputs": [],
   "source": [
    "# Skipping to implement Problem 3.1 here. It's a design problem. The book mentioned that it's too long for an interview.\n",
    "\n",
    "# Solution for problem 3.2\n",
    "\n",
    "def create_stack_from_list(values, capacity=None):\n",
    "    if capacity is None:\n",
    "        capacity = len(values) * 2\n",
    "    stack = Stack(capacity)\n",
    "    list(map(stack.push, values))\n",
    "    return stack\n",
    "\n",
    "def create_stack_random(start=1, end=15, size=10, capacity=None):\n",
    "    values = [random.randint(start, end) for _ in range(size)]\n",
    "    return create_stack_from_list(values, capacity)\n",
    "\n",
    "class Stack(list):\n",
    "\n",
    "    class StackObject:\n",
    "        def __init__(self, value):\n",
    "            self.value = value\n",
    "            self.next = None\n",
    "            self.min = None\n",
    "            \n",
    "        def __repr__(self):\n",
    "            return \"{}\".format(self.value)\n",
    "\n",
    "    def __init__(self, capacity):\n",
    "        self.capacity = capacity\n",
    "        self.top = None\n",
    "        self.size = 0\n",
    "    \n",
    "    def push(self, value):\n",
    "        if self.capacity <= self.size:\n",
    "            raise ValueError(\"Stack is full\")\n",
    "        \n",
    "        obj = Stack.StackObject(value)\n",
    "        if self.size == 0:\n",
    "            obj.min = obj.value\n",
    "            self.top = obj\n",
    "        else:\n",
    "            obj.next = self.top\n",
    "            obj.min = min(self.top.min, obj.value) \n",
    "            self.top = obj\n",
    "\n",
    "        self.append(obj)\n",
    "        self.size += 1\n",
    "\n",
    "    def min(self):\n",
    "        return self.peek().min\n",
    "\n",
    "    def peek(self):\n",
    "        return self.top\n",
    "\n",
    "    def pop(self):\n",
    "        if self.size == 0:\n",
    "            raise ValueError(\"Stack is empty\")\n",
    "\n",
    "        t = self.top\n",
    "        self.top = self.top.next\n",
    "        self.size -= 1\n",
    "        return t\n",
    "\n",
    "# test part\n",
    "\n",
    "values = [9, 7, 3, 1, 7, 2, 0, 9]\n",
    "stack = create_stack_from_list(values)\n",
    "assert stack.min() == 0\n",
    "stack.pop()\n",
    "assert stack.min() == 0\n",
    "stack.pop()\n",
    "assert stack.min() == 1\n",
    "assert stack.size == 6"
   ]
  }
 ],
 "metadata": {
  "kernelspec": {
   "display_name": "Python [coarse-wsd-3]",
   "language": "python",
   "name": "Python [coarse-wsd-3]"
  },
  "language_info": {
   "codemirror_mode": {
    "name": "ipython",
    "version": 3
   },
   "file_extension": ".py",
   "mimetype": "text/x-python",
   "name": "python",
   "nbconvert_exporter": "python",
   "pygments_lexer": "ipython3",
   "version": "3.6.1"
  }
 },
 "nbformat": 4,
 "nbformat_minor": 0
}
